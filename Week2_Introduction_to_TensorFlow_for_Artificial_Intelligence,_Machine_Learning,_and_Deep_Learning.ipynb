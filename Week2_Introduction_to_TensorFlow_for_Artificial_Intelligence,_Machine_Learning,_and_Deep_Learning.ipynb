{
  "nbformat": 4,
  "nbformat_minor": 0,
  "metadata": {
    "colab": {
      "name": "Week2_Introduction to TensorFlow for Artificial Intelligence, Machine Learning, and Deep Learning.ipynb",
      "provenance": [],
      "collapsed_sections": [],
      "authorship_tag": "ABX9TyPWoMi98zye2E+X7NMQ9Jqk",
      "include_colab_link": true
    },
    "kernelspec": {
      "name": "python3",
      "display_name": "Python 3"
    }
  },
  "cells": [
    {
      "cell_type": "markdown",
      "metadata": {
        "id": "view-in-github",
        "colab_type": "text"
      },
      "source": [
        "<a href=\"https://colab.research.google.com/github/dodo295/learnopencv/blob/master/Week2_Introduction_to_TensorFlow_for_Artificial_Intelligence%2C_Machine_Learning%2C_and_Deep_Learning.ipynb\" target=\"_parent\"><img src=\"https://colab.research.google.com/assets/colab-badge.svg\" alt=\"Open In Colab\"/></a>"
      ]
    },
    {
      "cell_type": "code",
      "metadata": {
        "id": "5yTDtQI2H1Il",
        "colab_type": "code",
        "colab": {
          "base_uri": "https://localhost:8080/",
          "height": 1000
        },
        "outputId": "46fb9702-0a78-43d8-a364-af2a74eb63bb"
      },
      "source": [
        "import tensorflow as tf\n",
        "import matplotlib.pyplot as plt\n",
        "import numpy as np\n",
        "from tensorflow import keras\n",
        "mnist = tf.keras.datasets.fashion_mnist\n",
        "(training_images, training_labels),(test_images, test_labels) = mnist.load_data()\n",
        "training_images = training_images/255\n",
        "test_images = test_images/255\n",
        "model = tf.keras.models.Sequential([keras.layers.Flatten(), keras.layers.Dense(512, activation= tf.nn.relu), keras.layers.Dense(1024, activation= tf.nn.relu), keras.layers.Dense(10, activation= tf.nn.softmax)])\n",
        "model.compile(optimizer='adam', loss='sparse_categorical_crossentropy', metrics=['accuracy'])\n",
        "model.fit(training_images, training_labels, epochs= 40)\n",
        "model.evaluate(test_images, test_labels)\n",
        "classification = model.predict(test_images)\n",
        "print(classification[0])\n",
        "print(test_labels[0])"
      ],
      "execution_count": 6,
      "outputs": [
        {
          "output_type": "stream",
          "text": [
            "Epoch 1/40\n",
            "1875/1875 [==============================] - 22s 12ms/step - loss: 0.4640 - accuracy: 0.8311\n",
            "Epoch 2/40\n",
            "1875/1875 [==============================] - 22s 12ms/step - loss: 0.3536 - accuracy: 0.8690\n",
            "Epoch 3/40\n",
            "1875/1875 [==============================] - 22s 12ms/step - loss: 0.3214 - accuracy: 0.8815\n",
            "Epoch 4/40\n",
            "1875/1875 [==============================] - 22s 12ms/step - loss: 0.3001 - accuracy: 0.8878\n",
            "Epoch 5/40\n",
            "1875/1875 [==============================] - 21s 11ms/step - loss: 0.2782 - accuracy: 0.8945\n",
            "Epoch 6/40\n",
            "1875/1875 [==============================] - 22s 12ms/step - loss: 0.2664 - accuracy: 0.8988\n",
            "Epoch 7/40\n",
            "1875/1875 [==============================] - 21s 11ms/step - loss: 0.2521 - accuracy: 0.9039\n",
            "Epoch 8/40\n",
            "1875/1875 [==============================] - 21s 11ms/step - loss: 0.2423 - accuracy: 0.9071\n",
            "Epoch 9/40\n",
            "1875/1875 [==============================] - 21s 11ms/step - loss: 0.2293 - accuracy: 0.9122\n",
            "Epoch 10/40\n",
            "1875/1875 [==============================] - 22s 12ms/step - loss: 0.2220 - accuracy: 0.9147\n",
            "Epoch 11/40\n",
            "1875/1875 [==============================] - 22s 12ms/step - loss: 0.2118 - accuracy: 0.9187\n",
            "Epoch 12/40\n",
            "1875/1875 [==============================] - 22s 11ms/step - loss: 0.2058 - accuracy: 0.9223\n",
            "Epoch 13/40\n",
            "1875/1875 [==============================] - 22s 12ms/step - loss: 0.1976 - accuracy: 0.9242\n",
            "Epoch 14/40\n",
            "1875/1875 [==============================] - 22s 11ms/step - loss: 0.1904 - accuracy: 0.9268\n",
            "Epoch 15/40\n",
            "1875/1875 [==============================] - 22s 12ms/step - loss: 0.1847 - accuracy: 0.9302\n",
            "Epoch 16/40\n",
            "1875/1875 [==============================] - 22s 12ms/step - loss: 0.1786 - accuracy: 0.9311\n",
            "Epoch 17/40\n",
            "1875/1875 [==============================] - 22s 11ms/step - loss: 0.1711 - accuracy: 0.9339\n",
            "Epoch 18/40\n",
            "1875/1875 [==============================] - 22s 12ms/step - loss: 0.1656 - accuracy: 0.9364\n",
            "Epoch 19/40\n",
            "1875/1875 [==============================] - 22s 12ms/step - loss: 0.1569 - accuracy: 0.9394\n",
            "Epoch 20/40\n",
            "1875/1875 [==============================] - 22s 12ms/step - loss: 0.1557 - accuracy: 0.9407\n",
            "Epoch 21/40\n",
            "1875/1875 [==============================] - 21s 11ms/step - loss: 0.1542 - accuracy: 0.9404\n",
            "Epoch 22/40\n",
            "1875/1875 [==============================] - 22s 12ms/step - loss: 0.1459 - accuracy: 0.9429\n",
            "Epoch 23/40\n",
            "1875/1875 [==============================] - 22s 12ms/step - loss: 0.1423 - accuracy: 0.9450\n",
            "Epoch 24/40\n",
            "1875/1875 [==============================] - 22s 12ms/step - loss: 0.1416 - accuracy: 0.9448\n",
            "Epoch 25/40\n",
            "1875/1875 [==============================] - 22s 12ms/step - loss: 0.1321 - accuracy: 0.9481\n",
            "Epoch 26/40\n",
            "1875/1875 [==============================] - 22s 12ms/step - loss: 0.1305 - accuracy: 0.9499\n",
            "Epoch 27/40\n",
            "1875/1875 [==============================] - 21s 11ms/step - loss: 0.1324 - accuracy: 0.9486\n",
            "Epoch 28/40\n",
            "1875/1875 [==============================] - 22s 12ms/step - loss: 0.1259 - accuracy: 0.9523\n",
            "Epoch 29/40\n",
            "1875/1875 [==============================] - 22s 12ms/step - loss: 0.1222 - accuracy: 0.9531\n",
            "Epoch 30/40\n",
            "1875/1875 [==============================] - 23s 12ms/step - loss: 0.1204 - accuracy: 0.9542\n",
            "Epoch 31/40\n",
            "1875/1875 [==============================] - 22s 12ms/step - loss: 0.1202 - accuracy: 0.9539\n",
            "Epoch 32/40\n",
            "1875/1875 [==============================] - 22s 11ms/step - loss: 0.1143 - accuracy: 0.9566\n",
            "Epoch 33/40\n",
            "1875/1875 [==============================] - 22s 12ms/step - loss: 0.1165 - accuracy: 0.9574\n",
            "Epoch 34/40\n",
            "1875/1875 [==============================] - 22s 11ms/step - loss: 0.1114 - accuracy: 0.9584\n",
            "Epoch 35/40\n",
            "1875/1875 [==============================] - 22s 12ms/step - loss: 0.1066 - accuracy: 0.9584\n",
            "Epoch 36/40\n",
            "1875/1875 [==============================] - 22s 12ms/step - loss: 0.1092 - accuracy: 0.9590\n",
            "Epoch 37/40\n",
            "1875/1875 [==============================] - 22s 12ms/step - loss: 0.0999 - accuracy: 0.9610\n",
            "Epoch 38/40\n",
            "1875/1875 [==============================] - 22s 12ms/step - loss: 0.1074 - accuracy: 0.9596\n",
            "Epoch 39/40\n",
            "1875/1875 [==============================] - 22s 12ms/step - loss: 0.0992 - accuracy: 0.9613\n",
            "Epoch 40/40\n",
            "1875/1875 [==============================] - 22s 11ms/step - loss: 0.0989 - accuracy: 0.9626\n",
            "313/313 [==============================] - 1s 3ms/step - loss: 0.6021 - accuracy: 0.8894\n",
            "[7.4756349e-17 3.4866114e-18 2.2941181e-16 6.6540894e-18 3.8698649e-12\n",
            " 6.6628481e-08 1.2533353e-13 9.5624188e-08 4.3339227e-14 9.9999988e-01]\n",
            "9\n"
          ],
          "name": "stdout"
        }
      ]
    }
  ]
}